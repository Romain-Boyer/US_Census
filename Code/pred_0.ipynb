{
 "cells": [
  {
   "cell_type": "markdown",
   "metadata": {},
   "source": [
    "# US CENSUS - Prediction\n",
    "## 0 - Import some libraries & Datasets"
   ]
  },
  {
   "cell_type": "code",
   "execution_count": 1,
   "metadata": {},
   "outputs": [],
   "source": [
    "import numpy as np\n",
    "import pandas as pd\n",
    "import os\n",
    "\n",
    "import matplotlib.pyplot as plt\n",
    "%matplotlib inline\n",
    "\n",
    "from sklearn.linear_model import LogisticRegression\n",
    "from sklearn.ensemble import RandomForestClassifier\n",
    "from sklearn.metrics import confusion_matrix, accuracy_score, precision_score\n",
    "from sklearn.model_selection import GridSearchCV"
   ]
  },
  {
   "cell_type": "code",
   "execution_count": 2,
   "metadata": {},
   "outputs": [
    {
     "name": "stdout",
     "output_type": "stream",
     "text": [
      "['census_income_learn.csv', 'census_income_metadata.txt', 'census_income_test.csv', 'test.csv', 'test_1.csv', 'train.csv', 'train_1.csv', 'us_census_full.zip']\n"
     ]
    }
   ],
   "source": [
    "PATH = '../Data/'\n",
    "FILE = os.listdir(PATH)\n",
    "print(FILE)"
   ]
  },
  {
   "cell_type": "code",
   "execution_count": 3,
   "metadata": {},
   "outputs": [],
   "source": [
    "df=pd.read_csv(PATH+'train.csv', index_col=0)\n",
    "test=pd.read_csv(PATH+'test.csv', index_col=0)"
   ]
  },
  {
   "cell_type": "markdown",
   "metadata": {},
   "source": [
    "## 1 - Dataset transformation"
   ]
  },
  {
   "cell_type": "code",
   "execution_count": 4,
   "metadata": {},
   "outputs": [],
   "source": [
    "col = df.columns"
   ]
  },
  {
   "cell_type": "code",
   "execution_count": 5,
   "metadata": {},
   "outputs": [],
   "source": [
    "to_dummy = [c for c in col[:-1] if df[c].nunique()<10]\n",
    "to_cat = [c for c in col[:-1] if (df[c].nunique()>=10)&(df[c].nunique()<60)]"
   ]
  },
  {
   "cell_type": "code",
   "execution_count": 6,
   "metadata": {},
   "outputs": [],
   "source": [
    "# Modifies column values to have integers sorted according to column 50k$/y\n",
    "def from_txt_2_int_train(col):\n",
    "    li = [(v, (df.loc[df[col]==v, '50k'].sum() / df[df[col]==v].shape[0])) for v in df[col].value_counts().index]\n",
    "    lis = sorted(li, key=lambda tup: tup[1])\n",
    "    dico = dict(zip([k for k,v in lis], [k for k,v in enumerate(lis)]))\n",
    "    return df[col].apply(lambda x: dico[x]), dico\n",
    "\n",
    "def from_txt_2_int_test(col, dico):\n",
    "    return test[col].apply(lambda x: dico[x])"
   ]
  },
  {
   "cell_type": "code",
   "execution_count": 7,
   "metadata": {},
   "outputs": [],
   "source": [
    "transcript_values = {}\n",
    "for c in to_cat:\n",
    "    df[c], transcript_values[c] = from_txt_2_int_train(c)\n",
    "    test[c] = from_txt_2_int_test(c, transcript_values[c])"
   ]
  },
  {
   "cell_type": "code",
   "execution_count": 8,
   "metadata": {},
   "outputs": [],
   "source": [
    "#Modifies column to have dummy variables\n",
    "df = pd.get_dummies(df, columns=to_dummy)\n",
    "test = pd.get_dummies(test, columns=to_dummy)"
   ]
  },
  {
   "cell_type": "code",
   "execution_count": 9,
   "metadata": {},
   "outputs": [],
   "source": [
    "# Create age dummy\n",
    "df['age_inf_20'] = df['age'].apply(lambda x: 1 if x<20 else 0)\n",
    "df['age_bet_20_35_and_60_75'] = df['age'].apply(lambda x: 1 if ((x>=20)&(x<35))|((x>=60)&(x<75)) else 0)\n",
    "df['age_bet_35_60'] = df['age'].apply(lambda x: 1 if (x>=35)&(x<60) else 0)\n",
    "df['age_more_75'] = df['age'].apply(lambda x: 1 if x>= 75 else 0)\n",
    "\n",
    "test['age_inf_20'] = test['age'].apply(lambda x: 1 if x<20 else 0)\n",
    "test['age_bet_20_35_and_60_75'] = test['age'].apply(lambda x: 1 if ((x>=20)&(x<35))|((x>=60)&(x<75)) else 0)\n",
    "test['age_bet_35_60'] = test['age'].apply(lambda x: 1 if (x>=35)&(x<60) else 0)\n",
    "test['age_more_75'] = test['age'].apply(lambda x: 1 if x>= 75 else 0)"
   ]
  },
  {
   "cell_type": "code",
   "execution_count": 10,
   "metadata": {},
   "outputs": [
    {
     "data": {
      "text/plain": [
       "[]"
      ]
     },
     "execution_count": 10,
     "metadata": {},
     "output_type": "execute_result"
    }
   ],
   "source": [
    "[c for c in df.columns if (df[c].dtypes!='int64')&(df[c].dtypes!='uint8')&(df[c].dtypes!='float64')]"
   ]
  },
  {
   "cell_type": "markdown",
   "metadata": {},
   "source": [
    "## 2 - Features selection"
   ]
  },
  {
   "cell_type": "code",
   "execution_count": 11,
   "metadata": {},
   "outputs": [
    {
     "name": "stdout",
     "output_type": "stream",
     "text": [
      "144\n"
     ]
    }
   ],
   "source": [
    "corr_col = [(col, np.abs(df[[col,'50k']].corr().iloc[0,1])) for col in df.columns]\n",
    "corr_col = sorted(corr_col, key=lambda tup: tup[1], reverse=True)[1:]\n",
    "print(len(corr_col))"
   ]
  },
  {
   "cell_type": "code",
   "execution_count": 12,
   "metadata": {},
   "outputs": [
    {
     "data": {
      "text/plain": [
       "[('detailed occupation recode', 0.39445046744006806),\n",
       " ('major occupation code', 0.35226036676879025),\n",
       " ('detailed industry recode', 0.29094785527741307),\n",
       " ('education', 0.2777817738202723),\n",
       " ('major industry code', 0.2763712710929725),\n",
       " ('weeks worked in year', 0.2654797785028283),\n",
       " ('capital gains', 0.2407248197157397),\n",
       " ('num persons worked for employer_0', 0.22287854954836495),\n",
       " ('age_bet_35_60', 0.2214058002993831),\n",
       " ('class of worker_Unknown', 0.2209135202242311),\n",
       " ('detailed household summary in household_ Householder', 0.21277756385233876),\n",
       " ('tax filer stat_ Joint both under 65', 0.2051930915097182),\n",
       " ('detailed household and family stat', 0.19897545924268126),\n",
       " ('tax filer stat_ Nonfiler', 0.19832556074033597),\n",
       " ('marital stat_ Married-civilian spouse present', 0.18394926568754547),\n",
       " ('marital stat_ Never married', 0.17816741183700655),\n",
       " ('dividends from stocks', 0.17577945855195706),\n",
       " ('num persons worked for employer_6', 0.172688869323927),\n",
       " ('age_inf_20', 0.17012021050933235),\n",
       " ('family members under 18_Unknown', 0.15916739990930345)]"
      ]
     },
     "execution_count": 12,
     "metadata": {},
     "output_type": "execute_result"
    }
   ],
   "source": [
    "# Select the k most correlated columns\n",
    "to_keep = 20\n",
    "\n",
    "# Display the k most correlated columns with 50k\n",
    "corr_col[:to_keep]"
   ]
  },
  {
   "cell_type": "markdown",
   "metadata": {},
   "source": [
    "## 3 - Prediction"
   ]
  },
  {
   "cell_type": "code",
   "execution_count": 13,
   "metadata": {},
   "outputs": [],
   "source": [
    "def display_scores(features, target, features_test, target_test, model):\n",
    "    print('Train')\n",
    "    print('-'*10)\n",
    "    print('Score : ', model.score(features, target))\n",
    "    print('Confusion matrix : ', '\\n',confusion_matrix(model.predict(features), target))\n",
    "    print('True positive : ', precision_score(model.predict(features), target))\n",
    "\n",
    "    print('\\n')\n",
    "    print('Dev')\n",
    "    print('-'*15)\n",
    "    print('Score : ', accuracy_score(model.predict(features_test), target_test))\n",
    "    print('Confusion matrix : ', '\\n', confusion_matrix(model.predict(features_test), target_test))\n",
    "    print('True positive : ', precision_score(model.predict(features_test), target_test))\n",
    "    return"
   ]
  },
  {
   "cell_type": "markdown",
   "metadata": {},
   "source": [
    "### a - Logistic Regression"
   ]
  },
  {
   "cell_type": "code",
   "execution_count": 14,
   "metadata": {},
   "outputs": [],
   "source": [
    "# Grid Search to find best parameters\n",
    "# Parameters\n",
    "to_keep_ = [40,50,60,100]\n",
    "C_=[0.5,1,1.5]\n",
    "\n",
    "scores = []\n",
    "\n",
    "for to_keep in to_keep_:\n",
    "    for C in C_:\n",
    "        # Features\n",
    "        corr_col_to_keep = [l[0] for l in corr_col[:to_keep]]\n",
    "\n",
    "        features = df[corr_col_to_keep].values\n",
    "        target = df['50k'].values\n",
    "\n",
    "        features_test = test[corr_col_to_keep].values\n",
    "        target_test = test['50k'].values\n",
    "\n",
    "        # Model\n",
    "        model = LogisticRegression(C=C)\n",
    "        model = model.fit(features, target)\n",
    "\n",
    "        # Scores\n",
    "        scores.append((to_keep, C, \n",
    "                       accuracy_score(model.predict(features), target),\n",
    "                       precision_score(model.predict(features), target),\n",
    "                       accuracy_score(model.predict(features_test),target_test),\n",
    "                       precision_score(model.predict(features_test), target_test)))"
   ]
  },
  {
   "cell_type": "code",
   "execution_count": 15,
   "metadata": {},
   "outputs": [
    {
     "name": "stdout",
     "output_type": "stream",
     "text": [
      "(50, 1.5, 0.9522611428256391, 0.3811177515748667, 0.9529379924219643, 0.38441642418364047)\n"
     ]
    }
   ],
   "source": [
    "# Select best parameters in function of True Positive rate (because of the distribution of 50k column)\n",
    "best_params = sorted(scores, key=lambda tup: tup[-1], reverse=True)[0]\n",
    "print(best_params)"
   ]
  },
  {
   "cell_type": "code",
   "execution_count": 16,
   "metadata": {},
   "outputs": [
    {
     "name": "stdout",
     "output_type": "stream",
     "text": [
      "Train\n",
      "----------\n",
      "Score :  0.9522611428256391\n",
      "Confusion matrix :  \n",
      " [[185279   7663]\n",
      " [  1862   4719]]\n",
      "True positive :  0.3811177515748667\n",
      "\n",
      "\n",
      "Dev\n",
      "---------------\n",
      "Score :  0.9529379924219643\n",
      "Confusion matrix :  \n",
      " [[92689  3808]\n",
      " [  887  2378]]\n",
      "True positive :  0.38441642418364047\n"
     ]
    }
   ],
   "source": [
    "# Parameters\n",
    "to_keep = best_params[0]\n",
    "C = best_params[1]\n",
    "\n",
    "# Features\n",
    "corr_col_to_keep = [l[0] for l in corr_col[:to_keep]]\n",
    "\n",
    "target = df['50k'].values\n",
    "features = df[corr_col_to_keep].values\n",
    "\n",
    "features_test = test[corr_col_to_keep].values\n",
    "target_test = test['50k'].values\n",
    "\n",
    "# Model\n",
    "model = LogisticRegression(C=C)\n",
    "model = model.fit(features, target)\n",
    "\n",
    "# Scores\n",
    "display_scores(features, target, features_test, target_test, model)"
   ]
  },
  {
   "cell_type": "markdown",
   "metadata": {},
   "source": [
    "### b - Random Forest Classifier"
   ]
  },
  {
   "cell_type": "code",
   "execution_count": 17,
   "metadata": {},
   "outputs": [],
   "source": [
    "# Grid Search to find best parameters\n",
    "# Parameters\n",
    "to_keep_ = [40,50,60,70]\n",
    "n_estimators_ = [14,50,100]\n",
    "max_depth_ = [10,25,50]\n",
    "\n",
    "scores = []\n",
    "\n",
    "for to_keep in to_keep_:\n",
    "    for n_estimators in n_estimators_:\n",
    "        for max_depth in max_depth_:\n",
    "            # Features\n",
    "            corr_col_to_keep = [l[0] for l in corr_col[:to_keep]]\n",
    "\n",
    "            features = df[corr_col_to_keep].values\n",
    "            target = df['50k'].values\n",
    "\n",
    "            features_test = test[corr_col_to_keep].values\n",
    "            target_test = test['50k'].values\n",
    "\n",
    "            # Model\n",
    "            model = RandomForestClassifier(n_estimators=n_estimators, max_depth=max_depth)\n",
    "            model = model.fit(features, target)\n",
    "\n",
    "            # Scores\n",
    "            scores.append((to_keep, n_estimators, max_depth, \n",
    "                           accuracy_score(model.predict(features), target),\n",
    "                           precision_score(model.predict(features), target),\n",
    "                           accuracy_score(model.predict(features_test),target_test),\n",
    "                           precision_score(model.predict(features_test), target_test)))"
   ]
  },
  {
   "cell_type": "code",
   "execution_count": 18,
   "metadata": {},
   "outputs": [
    {
     "name": "stdout",
     "output_type": "stream",
     "text": [
      "(40, 100, 25, 0.9928078467144139, 0.8888709416895494, 0.9561356027345081, 0.44633042353701907)\n"
     ]
    }
   ],
   "source": [
    "# Select best parameters in function of True Positive rate (because of the distribution of 50k column)\n",
    "best_params = sorted(scores, key=lambda tup: tup[-1], reverse=True)[0]\n",
    "print(best_params)"
   ]
  },
  {
   "cell_type": "code",
   "execution_count": 19,
   "metadata": {},
   "outputs": [
    {
     "name": "stdout",
     "output_type": "stream",
     "text": [
      "Train\n",
      "----------\n",
      "Score :  0.9923617828521023\n",
      "Confusion matrix :  \n",
      " [[187078   1461]\n",
      " [    63  10921]]\n",
      "True positive :  0.8820061379421741\n",
      "\n",
      "\n",
      "Dev\n",
      "---------------\n",
      "Score :  0.9557847677472384\n",
      "Confusion matrix :  \n",
      " [[92627  3462]\n",
      " [  949  2724]]\n",
      "True positive :  0.44034917555771097\n"
     ]
    }
   ],
   "source": [
    "# Parameters\n",
    "to_keep = best_params[0]\n",
    "n_estimators = best_params[1]\n",
    "max_depth = best_params[2]\n",
    "\n",
    "# Features\n",
    "corr_col_to_keep = [l[0] for l in corr_col[:to_keep]]\n",
    "\n",
    "target = df['50k'].values\n",
    "features = df[corr_col_to_keep].values\n",
    "\n",
    "features_test = test[corr_col_to_keep].values\n",
    "target_test = test['50k'].values\n",
    "\n",
    "# Model\n",
    "model = RandomForestClassifier(n_estimators=n_estimators, max_depth=max_depth)\n",
    "model = model.fit(features, target)\n",
    "\n",
    "# Scores\n",
    "display_scores(features, target, features_test, target_test, model)"
   ]
  },
  {
   "cell_type": "code",
   "execution_count": null,
   "metadata": {},
   "outputs": [],
   "source": []
  }
 ],
 "metadata": {
  "kernelspec": {
   "display_name": "Python 3",
   "language": "python",
   "name": "python3"
  },
  "language_info": {
   "codemirror_mode": {
    "name": "ipython",
    "version": 3
   },
   "file_extension": ".py",
   "mimetype": "text/x-python",
   "name": "python",
   "nbconvert_exporter": "python",
   "pygments_lexer": "ipython3",
   "version": "3.6.4"
  }
 },
 "nbformat": 4,
 "nbformat_minor": 2
}
